{
 "cells": [
  {
   "cell_type": "code",
   "execution_count": 9,
   "metadata": {
    "collapsed": false
   },
   "outputs": [
    {
     "name": "stderr",
     "output_type": "stream",
     "text": [
      "Using TensorFlow backend.\n"
     ]
    },
    {
     "name": "stdout",
     "output_type": "stream",
     "text": [
      "['survived', 'pclass', 'age', 'sibsp', 'parch', 'fare', 'male', 'age_was_missing', 'embarked_from_cherbourg', 'embarked_from_queenstown', 'embarked_from_southampton']\n"
     ]
    }
   ],
   "source": [
    "import pandas as pd\n",
    "import numpy as np\n",
    "from keras.utils import to_categorical\n",
    "\n",
    "titanic = pd.read_csv('titanic_all_numeric.csv')\n",
    "\n",
    "print (list(titanic.columns.values))  # print out the column names"
   ]
  },
  {
   "cell_type": "code",
   "execution_count": 10,
   "metadata": {
    "collapsed": false
   },
   "outputs": [
    {
     "name": "stdout",
     "output_type": "stream",
     "text": [
      "<class 'numpy.ndarray' at 0x10651e350>\n"
     ]
    }
   ],
   "source": [
    "titanic.survived = titanic['survived']\n",
    "target = to_categorical(titanic.survived)\n",
    "print (type(target))"
   ]
  },
  {
   "cell_type": "code",
   "execution_count": 6,
   "metadata": {
    "collapsed": false
   },
   "outputs": [
    {
     "name": "stdout",
     "output_type": "stream",
     "text": [
      "   pclass   age  sibsp  parch     fare  male  age_was_missing  \\\n",
      "0       3  22.0      1      0   7.2500     1            False   \n",
      "1       1  38.0      1      0  71.2833     0            False   \n",
      "2       3  26.0      0      0   7.9250     0            False   \n",
      "3       1  35.0      1      0  53.1000     0            False   \n",
      "4       3  35.0      0      0   8.0500     1            False   \n",
      "\n",
      "   embarked_from_cherbourg  embarked_from_queenstown  \\\n",
      "0                        0                         0   \n",
      "1                        1                         0   \n",
      "2                        0                         0   \n",
      "3                        0                         0   \n",
      "4                        0                         0   \n",
      "\n",
      "   embarked_from_southampton  \n",
      "0                          1  \n",
      "1                          0  \n",
      "2                          1  \n",
      "3                          1  \n",
      "4                          1  \n"
     ]
    }
   ],
   "source": [
    "predictors = titanic[titanic.columns[1:11]]\n",
    "print (predictors.head())"
   ]
  },
  {
   "cell_type": "code",
   "execution_count": 11,
   "metadata": {
    "collapsed": false
   },
   "outputs": [
    {
     "name": "stdout",
     "output_type": "stream",
     "text": [
      "[[1. 0.]\n",
      " [0. 1.]\n",
      " [0. 1.]\n",
      " ...\n",
      " [1. 0.]\n",
      " [0. 1.]\n",
      " [1. 0.]]\n"
     ]
    }
   ],
   "source": [
    "print (target)"
   ]
  },
  {
   "cell_type": "code",
   "execution_count": 14,
   "metadata": {
    "collapsed": false
   },
   "outputs": [
    {
     "data": {
      "text/plain": [
       "pandas.core.series.Series"
      ]
     },
     "execution_count": 14,
     "metadata": {},
     "output_type": "execute_result"
    }
   ],
   "source": [
    "type(titanic['survived'])"
   ]
  },
  {
   "cell_type": "code",
   "execution_count": 15,
   "metadata": {
    "collapsed": false
   },
   "outputs": [
    {
     "data": {
      "text/plain": [
       "survived                       int64\n",
       "pclass                         int64\n",
       "age                          float64\n",
       "sibsp                          int64\n",
       "parch                          int64\n",
       "fare                         float64\n",
       "male                           int64\n",
       "age_was_missing                 bool\n",
       "embarked_from_cherbourg        int64\n",
       "embarked_from_queenstown       int64\n",
       "embarked_from_southampton      int64\n",
       "dtype: object"
      ]
     },
     "execution_count": 15,
     "metadata": {},
     "output_type": "execute_result"
    }
   ],
   "source": [
    "titanic.dtypes"
   ]
  },
  {
   "cell_type": "code",
   "execution_count": 18,
   "metadata": {
    "collapsed": false
   },
   "outputs": [
    {
     "data": {
      "text/plain": [
       "survived                     category\n",
       "pclass                          int64\n",
       "age                           float64\n",
       "sibsp                           int64\n",
       "parch                           int64\n",
       "fare                          float64\n",
       "male                            int64\n",
       "age_was_missing                  bool\n",
       "embarked_from_cherbourg         int64\n",
       "embarked_from_queenstown        int64\n",
       "embarked_from_southampton       int64\n",
       "dtype: object"
      ]
     },
     "execution_count": 18,
     "metadata": {},
     "output_type": "execute_result"
    }
   ],
   "source": [
    "titanic['survived'] = titanic.survived.astype('category')\n",
    "titanic.dtypes"
   ]
  },
  {
   "cell_type": "code",
   "execution_count": null,
   "metadata": {
    "collapsed": true
   },
   "outputs": [],
   "source": []
  }
 ],
 "metadata": {
  "kernelspec": {
   "display_name": "Python 3",
   "language": "python",
   "name": "python3"
  },
  "language_info": {
   "codemirror_mode": {
    "name": "ipython",
    "version": 3
   },
   "file_extension": ".py",
   "mimetype": "text/x-python",
   "name": "python",
   "nbconvert_exporter": "python",
   "pygments_lexer": "ipython3",
   "version": "3.6.0a3"
  }
 },
 "nbformat": 4,
 "nbformat_minor": 0
}
