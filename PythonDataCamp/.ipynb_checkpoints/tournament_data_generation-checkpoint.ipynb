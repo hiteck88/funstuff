{
 "cells": [
  {
   "cell_type": "markdown",
   "metadata": {},
   "source": [
    "This should familiarize me with data wrangling using Python. (I think this one should be quite straightforward in R, but I should learn Py here)\n",
    "\n",
    "- season: 1985 to 2017\n",
    "- team_1: id 1, integer\n",
    "- team_2: id 2, integer\n",
    "- home: home or away\n",
    "- seed_diff: how strong the teams are\n",
    "- score_diff: team1 - team2\n",
    "- score_1\n",
    "- score_2\n",
    "- won: (outcome)\n",
    "\n",
    "Since the original data has 33 different years, and each year has on average 130± rows, it's unnecessary to get all of them. A seemingly feasible way is to use 10 rows for each year. \n",
    "\n",
    "```\n",
    "# put the counts of season (which year) along with the season label in a df\n",
    "\n",
    "counts_by_year = games_tourney.season.value_counts().reset_index().rename(columns = {'index': 'year', 'season': 'count'})\n",
    "\n",
    "# then reorder by year \n",
    "counts_by_year_sorted = counts_by_year.sort_values(by = ['year'])\n",
    "\n",
    "# create the appropriate index for the extraction\n",
    "\n",
    "new_list = []\n",
    "\n",
    "def add_one_by_one(lst):\n",
    "    pre_sums = 0\n",
    "    for i in lst:\n",
    "        pre_sums += i\n",
    "        new_list.append(pre_sums)\n",
    "    return new_list\n",
    "\n",
    "\n",
    "cum_index = add_one_by_one(counts_by_year_sorted['count'])\n",
    "counts_by_year_sorted['cum_index'] = np.array(cum_index) - 126\n",
    "counts_by_year_sorted['cum_index2'] = counts_by_year_sorted['cum_index'] + 10\n",
    "\n",
    "# then by setting different year, this info can be extracted. \n",
    "yr = 2017  # can be any others \n",
    "ind1year = counts_by_year_sorted[counts_by_year_sorted['year'] == yr]['cum_index']\n",
    "ind2year = counts_by_year_sorted[counts_by_year_sorted['year'] == yr]['cum_index2']\n",
    "games_tourney.loc[int(ind1year):int(ind2year), ]\n",
    "\n",
    "```"
   ]
  },
  {
   "cell_type": "code",
   "execution_count": 2,
   "metadata": {},
   "outputs": [],
   "source": [
    "import pandas as pd\n",
    "import numpy as np"
   ]
  },
  {
   "cell_type": "code",
   "execution_count": 43,
   "metadata": {},
   "outputs": [
    {
     "data": {
      "text/html": [
       "<div>\n",
       "<style scoped>\n",
       "    .dataframe tbody tr th:only-of-type {\n",
       "        vertical-align: middle;\n",
       "    }\n",
       "\n",
       "    .dataframe tbody tr th {\n",
       "        vertical-align: top;\n",
       "    }\n",
       "\n",
       "    .dataframe thead th {\n",
       "        text-align: right;\n",
       "    }\n",
       "</style>\n",
       "<table border=\"1\" class=\"dataframe\">\n",
       "  <thead>\n",
       "    <tr style=\"text-align: right;\">\n",
       "      <th></th>\n",
       "      <th>season</th>\n",
       "      <th>team_1</th>\n",
       "      <th>team_2</th>\n",
       "      <th>home</th>\n",
       "      <th>seed_diff</th>\n",
       "      <th>score_diff</th>\n",
       "      <th>score_1</th>\n",
       "      <th>score_2</th>\n",
       "      <th>won</th>\n",
       "    </tr>\n",
       "  </thead>\n",
       "  <tbody>\n",
       "    <tr>\n",
       "      <th>0</th>\n",
       "      <td>1985</td>\n",
       "      <td>288</td>\n",
       "      <td>73</td>\n",
       "      <td>0</td>\n",
       "      <td>-3</td>\n",
       "      <td>-9</td>\n",
       "      <td>41</td>\n",
       "      <td>50</td>\n",
       "      <td>0</td>\n",
       "    </tr>\n",
       "    <tr>\n",
       "      <th>1</th>\n",
       "      <td>1985</td>\n",
       "      <td>5929</td>\n",
       "      <td>73</td>\n",
       "      <td>0</td>\n",
       "      <td>4</td>\n",
       "      <td>6</td>\n",
       "      <td>61</td>\n",
       "      <td>55</td>\n",
       "      <td>1</td>\n",
       "    </tr>\n",
       "    <tr>\n",
       "      <th>2</th>\n",
       "      <td>1985</td>\n",
       "      <td>9884</td>\n",
       "      <td>73</td>\n",
       "      <td>0</td>\n",
       "      <td>5</td>\n",
       "      <td>-4</td>\n",
       "      <td>59</td>\n",
       "      <td>63</td>\n",
       "      <td>0</td>\n",
       "    </tr>\n",
       "    <tr>\n",
       "      <th>3</th>\n",
       "      <td>1985</td>\n",
       "      <td>73</td>\n",
       "      <td>288</td>\n",
       "      <td>0</td>\n",
       "      <td>3</td>\n",
       "      <td>9</td>\n",
       "      <td>50</td>\n",
       "      <td>41</td>\n",
       "      <td>1</td>\n",
       "    </tr>\n",
       "    <tr>\n",
       "      <th>4</th>\n",
       "      <td>1985</td>\n",
       "      <td>3920</td>\n",
       "      <td>410</td>\n",
       "      <td>0</td>\n",
       "      <td>1</td>\n",
       "      <td>-9</td>\n",
       "      <td>54</td>\n",
       "      <td>63</td>\n",
       "      <td>0</td>\n",
       "    </tr>\n",
       "  </tbody>\n",
       "</table>\n",
       "</div>"
      ],
      "text/plain": [
       "   season  team_1    team_2    home    seed_diff    score_diff    score_1   \\\n",
       "0    1985     288        73         0          -3            -9         41   \n",
       "1    1985    5929        73         0           4             6         61   \n",
       "2    1985    9884        73         0           5            -4         59   \n",
       "3    1985      73       288         0           3             9         50   \n",
       "4    1985    3920       410         0           1            -9         54   \n",
       "\n",
       "    score_2    won  \n",
       "0         50     0  \n",
       "1         55     1  \n",
       "2         63     0  \n",
       "3         41     1  \n",
       "4         63     0  "
      ]
     },
     "execution_count": 43,
     "metadata": {},
     "output_type": "execute_result"
    }
   ],
   "source": [
    "tornament = pd.read_csv('/Users/andrea/Documents/Data/pyDataCamp/game_tornament.csv', sep = ';')\n",
    "tornament.head()"
   ]
  },
  {
   "cell_type": "code",
   "execution_count": 44,
   "metadata": {},
   "outputs": [
    {
     "data": {
      "text/plain": [
       "dtype('int64')"
      ]
     },
     "execution_count": 44,
     "metadata": {},
     "output_type": "execute_result"
    }
   ],
   "source": [
    "tornament['season'].dtype"
   ]
  },
  {
   "cell_type": "code",
   "execution_count": null,
   "metadata": {},
   "outputs": [],
   "source": []
  },
  {
   "cell_type": "code",
   "execution_count": null,
   "metadata": {},
   "outputs": [],
   "source": []
  }
 ],
 "metadata": {
  "kernelspec": {
   "display_name": "Python 3",
   "language": "python",
   "name": "python3"
  },
  "language_info": {
   "codemirror_mode": {
    "name": "ipython",
    "version": 3
   },
   "file_extension": ".py",
   "mimetype": "text/x-python",
   "name": "python",
   "nbconvert_exporter": "python",
   "pygments_lexer": "ipython3",
   "version": "3.7.2"
  }
 },
 "nbformat": 4,
 "nbformat_minor": 2
}
