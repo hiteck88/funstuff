{
 "cells": [
  {
   "cell_type": "markdown",
   "metadata": {},
   "source": [
    "## Function and method \n",
    "\n",
    "OOP: object-oriented programming, organised around object (data) rather than logic. Such as Python, Java, C++.\n",
    "\n",
    "R is both object-oriented and functional 'paradigm'. On the OO side, it has 3 built-in OO paradigms (S3 S4 R5). I don't understand why it is functional though. \n",
    "\n",
    "Python has both concepts of function and method"
   ]
  },
  {
   "cell_type": "markdown",
   "metadata": {},
   "source": [
    "### Function\n",
    "\n",
    "can be called only by its name.\n",
    "\n",
    "```\n",
    "def function_name ( arg1, arg2, ...) : \n",
    "    ...... \n",
    "    # function body \n",
    "    ......    \n",
    "```\n"
   ]
  },
  {
   "cell_type": "markdown",
   "metadata": {},
   "source": [
    "### Method\n",
    "\n",
    "can not be called by its name only. \n",
    "need to invoke the **class** since the method depends on the class. \n",
    "```\n",
    "# Basic Python method  \n",
    "class class_name \n",
    "    def method_name () : \n",
    "        ...... \n",
    "        # method body \n",
    "        ......    \n",
    "```"
   ]
  },
  {
   "cell_type": "code",
   "execution_count": 1,
   "metadata": {},
   "outputs": [],
   "source": [
    "class ABC:\n",
    "    def method_abc(self):\n",
    "        print ('I am in method_abc of ABC class.')"
   ]
  },
  {
   "cell_type": "code",
   "execution_count": 6,
   "metadata": {},
   "outputs": [
    {
     "name": "stdout",
     "output_type": "stream",
     "text": [
      "<__main__.ABC object at 0x1119b3588>\n"
     ]
    }
   ],
   "source": [
    "class_ref = ABC()   # object of ABC class \n",
    "print (class_ref)"
   ]
  },
  {
   "cell_type": "code",
   "execution_count": 3,
   "metadata": {},
   "outputs": [
    {
     "name": "stdout",
     "output_type": "stream",
     "text": [
      "I am in method_abc of ABC class.\n"
     ]
    }
   ],
   "source": [
    "class_ref.method_abc()"
   ]
  },
  {
   "cell_type": "code",
   "execution_count": 14,
   "metadata": {},
   "outputs": [],
   "source": [
    "class AB:\n",
    "    def my_sum(a, b):\n",
    "        print (a+b)"
   ]
  },
  {
   "cell_type": "code",
   "execution_count": 13,
   "metadata": {},
   "outputs": [
    {
     "ename": "AttributeError",
     "evalue": "'numpy.ndarray' object has no attribute 'my_sum'",
     "output_type": "error",
     "traceback": [
      "\u001b[0;31m---------------------------------------------------------------------------\u001b[0m",
      "\u001b[0;31mAttributeError\u001b[0m                            Traceback (most recent call last)",
      "\u001b[0;32m<ipython-input-13-91d30a0df212>\u001b[0m in \u001b[0;36m<module>\u001b[0;34m\u001b[0m\n\u001b[1;32m      1\u001b[0m \u001b[0;32mimport\u001b[0m \u001b[0mnumpy\u001b[0m \u001b[0;32mas\u001b[0m \u001b[0mnp\u001b[0m\u001b[0;34m\u001b[0m\u001b[0;34m\u001b[0m\u001b[0m\n\u001b[1;32m      2\u001b[0m \u001b[0marray1\u001b[0m \u001b[0;34m=\u001b[0m \u001b[0mnp\u001b[0m\u001b[0;34m.\u001b[0m\u001b[0marray\u001b[0m\u001b[0;34m(\u001b[0m\u001b[0;34m[\u001b[0m\u001b[0;36m1\u001b[0m\u001b[0;34m,\u001b[0m\u001b[0;36m2\u001b[0m\u001b[0;34m]\u001b[0m\u001b[0;34m)\u001b[0m\u001b[0;34m\u001b[0m\u001b[0;34m\u001b[0m\u001b[0m\n\u001b[0;32m----> 3\u001b[0;31m \u001b[0marray1\u001b[0m\u001b[0;34m.\u001b[0m\u001b[0mmy_sum\u001b[0m\u001b[0;34m(\u001b[0m\u001b[0;34m)\u001b[0m\u001b[0;34m\u001b[0m\u001b[0;34m\u001b[0m\u001b[0m\n\u001b[0m",
      "\u001b[0;31mAttributeError\u001b[0m: 'numpy.ndarray' object has no attribute 'my_sum'"
     ]
    }
   ],
   "source": [
    "import numpy as np\n",
    "array1 = np.array([1,2])\n",
    "array1.my_sum()"
   ]
  },
  {
   "cell_type": "markdown",
   "metadata": {},
   "source": [
    "# Arguments and parsing\n",
    "\n",
    "**argparse** module, command-line parsing. \n",
    "\n",
    "**parsing**: take a set of data and extract the meaningful info from it. \n",
    "\n",
    "Save the following to `prog.py`\n",
    "```\n",
    "import argparse\n",
    "parser = argparse.ArgumentParser()\n",
    "parser.parse_args()\n",
    "```\n",
    "\n",
    "Then run in command line (--help or -h)\n",
    "\n",
    "```\n",
    "python prog.py --help\n",
    "```\n",
    "\n",
    "It already gives help message. \n",
    "\n",
    "### positional arguments \n",
    "\n",
    "Add an **add_argument()** method, which specifies which command-line options the program accepts. \n",
    "\n",
    "**parse_args()** method returns some data form the options specified. Here is echo. \n",
    "\n",
    "```\n",
    "import argparse\n",
    "parser = argparse.ArgumentParser()\n",
    "parser.add_argument('echo')\n",
    "args = parser.parse_args()\n",
    "print (args.echo)\n",
    "```\n",
    "\n",
    "## Args and Kwargs\n",
    "\n",
    "`*args`: arguments. pass non-keyward arguments such as `fun(3, 4)`. \n",
    "\n",
    "\n",
    "`**kwargs`: keyword arguments. Each keyword argument is a dictionary. `fun(foo = 2, bar = 7)`.  It is just like `*args` except that you declare the variables. "
   ]
  },
  {
   "cell_type": "code",
   "execution_count": 13,
   "metadata": {},
   "outputs": [],
   "source": [
    "def add(a, b, c):\n",
    "    d = a+b+c\n",
    "    return d\n",
    " "
   ]
  },
  {
   "cell_type": "code",
   "execution_count": 14,
   "metadata": {},
   "outputs": [
    {
     "name": "stdout",
     "output_type": "stream",
     "text": [
      "9\n"
     ]
    }
   ],
   "source": [
    "m = add(2, 3, 4)\n",
    "print (m)"
   ]
  },
  {
   "cell_type": "code",
   "execution_count": 15,
   "metadata": {},
   "outputs": [],
   "source": [
    "def add(*args):    # on top of function add\n",
    "    total = 0\n",
    "    for arg in args:\n",
    "        total += arg\n",
    "    return total"
   ]
  },
  {
   "cell_type": "code",
   "execution_count": 16,
   "metadata": {},
   "outputs": [
    {
     "name": "stdout",
     "output_type": "stream",
     "text": [
      "8\n"
     ]
    }
   ],
   "source": [
    "print (add(1, 2, 5))"
   ]
  },
  {
   "cell_type": "code",
   "execution_count": 17,
   "metadata": {},
   "outputs": [
    {
     "name": "stdout",
     "output_type": "stream",
     "text": [
      "14\n"
     ]
    }
   ],
   "source": [
    "print (add(1, 2, 5, 6))"
   ]
  },
  {
   "cell_type": "markdown",
   "metadata": {},
   "source": [
    "### kwargs"
   ]
  },
  {
   "cell_type": "code",
   "execution_count": 21,
   "metadata": {},
   "outputs": [],
   "source": [
    "def my_fun(x = 10, y = 20):\n",
    "    return (x+y)"
   ]
  },
  {
   "cell_type": "code",
   "execution_count": 22,
   "metadata": {},
   "outputs": [
    {
     "data": {
      "text/plain": [
       "30"
      ]
     },
     "execution_count": 22,
     "metadata": {},
     "output_type": "execute_result"
    }
   ],
   "source": [
    "my_fun()"
   ]
  },
  {
   "cell_type": "markdown",
   "metadata": {},
   "source": [
    "# objects and classes \n",
    "\n",
    "**class**: resuable chunk of codes that has **methods** and **variables**. \n",
    "\n",
    "A **class** is a template for an **object** (cookie cutter vs cookie), and an object is an instance of a class. \n",
    "\n",
    "**Instantiate class**: `object_name = className()`. \n",
    "\n",
    "**Method** is a function for class. \n",
    "\n",
    "| Imperative programming | OOP             |\n",
    "| ---------------------- | --------------- |\n",
    "| variable               | Attribute/field |\n",
    "| function               | Method          |\n",
    "\n",
    "\n",
    "```\n",
    "# an example class definition\n",
    "\n",
    "class ClassName():\n",
    "    \n",
    "    # constructor\n",
    "    def __init__(self, filename):\n",
    "        self.filename = filename\n",
    "     \n",
    "    def func1(self):\n",
    "        someFunction\n",
    "        \n",
    "\n",
    "```"
   ]
  },
  {
   "cell_type": "code",
   "execution_count": 1,
   "metadata": {},
   "outputs": [],
   "source": [
    "# declare a class\n",
    "\n",
    "class Dinosaur():\n",
    "    pass"
   ]
  },
  {
   "cell_type": "code",
   "execution_count": 2,
   "metadata": {},
   "outputs": [],
   "source": [
    "# object is Trex, which is an instance of Dinosaur class.\n",
    "# this is called 'instantiate' a class. \n",
    "\n",
    "Trex = Dinosaur()"
   ]
  },
  {
   "cell_type": "code",
   "execution_count": 3,
   "metadata": {},
   "outputs": [
    {
     "data": {
      "text/plain": [
       "<__main__.Dinosaur at 0x108c82208>"
      ]
     },
     "execution_count": 3,
     "metadata": {},
     "output_type": "execute_result"
    }
   ],
   "source": [
    "Trex"
   ]
  },
  {
   "cell_type": "markdown",
   "metadata": {},
   "source": [
    "## initialize \n",
    "\n",
    "**init** method is a constructor: set the object the way you want. An empty pot on the stove, doesn't need to be used, but needed as long as you want to cook. \n",
    "\n",
    "## self \n",
    "\n",
    "**self** is an instance of the class, or the specific object. Here the instance of the class is the class itself. When we initialise the class, `car_data_shell = DataShell('mtcars.csv')`, \n",
    "\n",
    "```\n",
    "    def __init__(car_data_shell, 'mtcars.csv'):\n",
    "        self.filename = filename\n",
    "```\n",
    "**self** is not a keyward, but is used like one. \n",
    "\n",
    "(from stackexchange: **self** is the key difference between a function and a class method. A class method has to be aware of its parent (and parent properties) so we need to pass the method a reference to the parent class (as *self*). \n",
    "\n",
    "```\n",
    "class Vector:\n",
    "    def __init__(self, x, y):\n",
    "        self.x = x\n",
    "        self.y = y\n",
    "        \n",
    "    def length(self):\n",
    "    return math.sqrt(self.x ** 2 + self.y ** 2)\n",
    "```\n",
    "\n",
    "A call like `v_instance.length()` is internally transformed to `Vector.length(v_instance)`. \n"
   ]
  },
  {
   "cell_type": "code",
   "execution_count": null,
   "metadata": {},
   "outputs": [],
   "source": [
    "# empty constructor\n",
    "\n",
    "class Dinosaur():\n",
    "    \n",
    "    def __init__(self):\n",
    "        pass\n",
    "    \n",
    "    \n",
    "# constructor with attributes\n",
    "\n",
    "class Dinosaur():\n",
    "    \n",
    "    def __init__(self):    # __init__ is a method (function)\n",
    "        self.tail = 'Yes'  # tail attribute (variable), every object in Dinosaur class from now on will have tail \n",
    "     \n",
    "    \n",
    "class Dinosaur():\n",
    "    eyes = 2\n",
    "    \n",
    "    def __init__(self, teeth):\n",
    "        self.teeth = teeth      # teeth attribute\n",
    "            \n",
    "            \n"
   ]
  },
  {
   "cell_type": "markdown",
   "metadata": {},
   "source": [
    "so what is the difference between with or without .()? \n",
    "\n",
    "### instance variable\n",
    "\n",
    "it is **data** in the following example. It is initialised when the object is instantiated. \n",
    "\n",
    "### class variable \n",
    "\n",
    "set before **init**. It normally is the same for the same class. (like the `eyes` variable in `Dinosaur` class)"
   ]
  },
  {
   "cell_type": "code",
   "execution_count": null,
   "metadata": {},
   "outputs": [],
   "source": [
    "# create the DataShell with a Constructor\n",
    "\n",
    "# Create class: DataShell\n",
    "class DataShell:\n",
    "    def __init__(self, integerInput):    # Initialize class with self and integerInput arguments   \n",
    "        self.data = integerInput    # Set data as instance variable, and assign the value of integerInput\n",
    "\n",
    "\n",
    "x = 10        # Declare variable x with value of 10\n",
    "my_data_shell = DataShell(x)      # Instantiate DataShell passing x as argument: my_data_shell\n",
    "\n",
    "print(my_data_shell.data)"
   ]
  },
  {
   "cell_type": "code",
   "execution_count": 1,
   "metadata": {},
   "outputs": [],
   "source": [
    "class Dinosaur():\n",
    "    eyes = 2    # class variable \n",
    "    \n",
    "    def __init__(self, teeth):\n",
    "        self.teeth = teeth\n",
    "\n"
   ]
  },
  {
   "cell_type": "code",
   "execution_count": 3,
   "metadata": {},
   "outputs": [
    {
     "data": {
      "text/plain": [
       "2"
      ]
     },
     "execution_count": 3,
     "metadata": {},
     "output_type": "execute_result"
    }
   ],
   "source": [
    "# this is already defined\n",
    "Dinosaur.eyes"
   ]
  },
  {
   "cell_type": "code",
   "execution_count": 9,
   "metadata": {},
   "outputs": [
    {
     "data": {
      "text/plain": [
       "40"
      ]
     },
     "execution_count": 9,
     "metadata": {},
     "output_type": "execute_result"
    }
   ],
   "source": [
    "stegosaurus = Dinosaur(40)\n",
    "# stegosaurus  will only give you <__main__.Dinosaur at 0x1103930f0>\n",
    "stegosaurus.teeth"
   ]
  },
  {
   "cell_type": "code",
   "execution_count": 10,
   "metadata": {},
   "outputs": [
    {
     "data": {
      "text/plain": [
       "2"
      ]
     },
     "execution_count": 10,
     "metadata": {},
     "output_type": "execute_result"
    }
   ],
   "source": [
    "stegosaurus.eyes   # still 2 "
   ]
  },
  {
   "cell_type": "markdown",
   "metadata": {},
   "source": [
    "## Methods in classes\n",
    "\n",
    "Need to use **self** as an argument\n",
    "\n",
    "call with or without passing in parameters. \n",
    "\n",
    "### with () or without? \n",
    "\n",
    "No ():\n",
    "- class variable (defined before __init__)\n",
    "- __init__ method (actually: `cat1.cat` can not be called with () is because it's not a class method! It is an instance variable, so there is no method associated. )\n",
    "- ok, so any **variable** is not used with ()... \n",
    "\n",
    "Others: Yes"
   ]
  },
  {
   "cell_type": "code",
   "execution_count": 14,
   "metadata": {},
   "outputs": [],
   "source": [
    "class Dino:\n",
    "    # initialise\n",
    "    def __init__(self):\n",
    "        pass\n",
    "    \n",
    "    def intro_dino(self):\n",
    "        print('My name is Dino')"
   ]
  },
  {
   "cell_type": "code",
   "execution_count": 15,
   "metadata": {},
   "outputs": [],
   "source": [
    "dino_instance = Dino()   # take no arguments"
   ]
  },
  {
   "cell_type": "code",
   "execution_count": 16,
   "metadata": {},
   "outputs": [
    {
     "name": "stdout",
     "output_type": "stream",
     "text": [
      "My name is Dino\n"
     ]
    }
   ],
   "source": [
    "dino_instance.intro_dino()"
   ]
  },
  {
   "cell_type": "code",
   "execution_count": 52,
   "metadata": {},
   "outputs": [],
   "source": [
    "class PusheenFamily:\n",
    "    # initialise\n",
    "    def __init__(self, cat_name):\n",
    "        self.cat = cat_name\n",
    "    \n",
    "    def intro_cat(self):\n",
    "        st = '%s says hello'%(self.cat)  # access an instance variable from within method 'intro_cat'\n",
    "        print(st)\n",
    "        \n",
    "    def age(self):\n",
    "        print('cat age')   # this doesn't have any argument"
   ]
  },
  {
   "cell_type": "code",
   "execution_count": 53,
   "metadata": {},
   "outputs": [],
   "source": [
    "cat1 = PusheenFamily('pip')"
   ]
  },
  {
   "cell_type": "code",
   "execution_count": 51,
   "metadata": {},
   "outputs": [
    {
     "data": {
      "text/plain": [
       "'pip'"
      ]
     },
     "execution_count": 51,
     "metadata": {},
     "output_type": "execute_result"
    }
   ],
   "source": [
    "cat1.cat  \n",
    "# can't use (): it'll tell you the object (either PusheenFamily of cat) is not callable. \n",
    "# I THINK: it is also because this is not a **class method**!\n",
    "# it is an instance variable. "
   ]
  },
  {
   "cell_type": "code",
   "execution_count": 48,
   "metadata": {},
   "outputs": [
    {
     "name": "stdout",
     "output_type": "stream",
     "text": [
      "pip says hello\n"
     ]
    }
   ],
   "source": [
    "cat1.intro_cat()\n",
    "\n",
    "# in this case, this is internally transformed to PusheenFamily.intro_cat(cat1)"
   ]
  },
  {
   "cell_type": "code",
   "execution_count": 56,
   "metadata": {},
   "outputs": [
    {
     "name": "stdout",
     "output_type": "stream",
     "text": [
      "cat age\n"
     ]
    }
   ],
   "source": [
    "cat1.age()"
   ]
  },
  {
   "cell_type": "code",
   "execution_count": null,
   "metadata": {},
   "outputs": [],
   "source": []
  }
 ],
 "metadata": {
  "kernelspec": {
   "display_name": "Python 3",
   "language": "python",
   "name": "python3"
  },
  "language_info": {
   "codemirror_mode": {
    "name": "ipython",
    "version": 3
   },
   "file_extension": ".py",
   "mimetype": "text/x-python",
   "name": "python",
   "nbconvert_exporter": "python",
   "pygments_lexer": "ipython3",
   "version": "3.7.2"
  }
 },
 "nbformat": 4,
 "nbformat_minor": 2
}
